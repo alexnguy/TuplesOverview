{
    "cells": [
        {
            "cell_type": "markdown",
            "metadata": {
                "collapsed": true
            },
            "source": "# Tuples"
        },
        {
            "cell_type": "code",
            "execution_count": 1,
            "metadata": {},
            "outputs": [
                {
                    "data": {
                        "text/plain": "('Pop', 50, 9.1)"
                    },
                    "execution_count": 1,
                    "metadata": {},
                    "output_type": "execute_result"
                }
            ],
            "source": "# Create your first tuple\n\ntuple = (\"Pop\", 50, 9.1)\ntuple"
        },
        {
            "cell_type": "code",
            "execution_count": 2,
            "metadata": {},
            "outputs": [
                {
                    "data": {
                        "text/plain": "tuple"
                    },
                    "execution_count": 2,
                    "metadata": {},
                    "output_type": "execute_result"
                }
            ],
            "source": "# Print the type of tuple\n\ntype(tuple)"
        },
        {
            "cell_type": "markdown",
            "metadata": {},
            "source": "### Indexing with Tuples"
        },
        {
            "cell_type": "code",
            "execution_count": 3,
            "metadata": {},
            "outputs": [
                {
                    "name": "stdout",
                    "output_type": "stream",
                    "text": "Pop\n50\n9.1\n"
                }
            ],
            "source": "# Print the variable on each index\n\nprint(tuple[0])\nprint(tuple[1])\nprint(tuple[2])"
        },
        {
            "cell_type": "code",
            "execution_count": 5,
            "metadata": {},
            "outputs": [
                {
                    "name": "stdout",
                    "output_type": "stream",
                    "text": "<class 'str'>\n<class 'int'>\n<class 'float'>\n"
                }
            ],
            "source": "# We can then print the type of each value\n\nprint(type(tuple[0]))\nprint(type(tuple[1]))\nprint(type(tuple[2]))"
        },
        {
            "cell_type": "code",
            "execution_count": 8,
            "metadata": {},
            "outputs": [
                {
                    "data": {
                        "text/plain": "9.1"
                    },
                    "execution_count": 8,
                    "metadata": {},
                    "output_type": "execute_result"
                }
            ],
            "source": "# Use negative index\n\ntuple[-1]"
        },
        {
            "cell_type": "code",
            "execution_count": 9,
            "metadata": {},
            "outputs": [
                {
                    "data": {
                        "text/plain": "50"
                    },
                    "execution_count": 9,
                    "metadata": {},
                    "output_type": "execute_result"
                }
            ],
            "source": "tuple[-2]\n"
        },
        {
            "cell_type": "code",
            "execution_count": 10,
            "metadata": {},
            "outputs": [
                {
                    "data": {
                        "text/plain": "'Pop'"
                    },
                    "execution_count": 10,
                    "metadata": {},
                    "output_type": "execute_result"
                }
            ],
            "source": "tuple[-3]"
        },
        {
            "cell_type": "markdown",
            "metadata": {},
            "source": "### Concatenate Tuples"
        },
        {
            "cell_type": "code",
            "execution_count": 11,
            "metadata": {},
            "outputs": [
                {
                    "data": {
                        "text/plain": "('Pop', 50, 9.1, 'lemon', 1)"
                    },
                    "execution_count": 11,
                    "metadata": {},
                    "output_type": "execute_result"
                }
            ],
            "source": "# Concatenate two tuples\n\ntuple1 = tuple + (\"lemon\", 1)\ntuple1"
        },
        {
            "cell_type": "markdown",
            "metadata": {},
            "source": "### Slicing"
        },
        {
            "cell_type": "code",
            "execution_count": 12,
            "metadata": {},
            "outputs": [
                {
                    "data": {
                        "text/plain": "('Pop', 50, 9.1, 'lemon')"
                    },
                    "execution_count": 12,
                    "metadata": {},
                    "output_type": "execute_result"
                }
            ],
            "source": "# Slice from index 0 to 3\n\ntuple1[0:4]"
        },
        {
            "cell_type": "code",
            "execution_count": 13,
            "metadata": {},
            "outputs": [
                {
                    "data": {
                        "text/plain": "5"
                    },
                    "execution_count": 13,
                    "metadata": {},
                    "output_type": "execute_result"
                }
            ],
            "source": "# Get the length of tuple\n\nlen(tuple1)"
        },
        {
            "cell_type": "markdown",
            "metadata": {},
            "source": "### Sorting"
        },
        {
            "cell_type": "code",
            "execution_count": 16,
            "metadata": {},
            "outputs": [
                {
                    "data": {
                        "text/plain": "[0, 1, 2, 3, 4, 5]"
                    },
                    "execution_count": 16,
                    "metadata": {},
                    "output_type": "execute_result"
                }
            ],
            "source": "Ratings = (1,0,5,4,3,2)\nRatingsSorted = sorted(Ratings)\nRatingsSorted"
        },
        {
            "cell_type": "markdown",
            "metadata": {},
            "source": "### Nested Tuple"
        },
        {
            "cell_type": "code",
            "execution_count": 23,
            "metadata": {},
            "outputs": [
                {
                    "data": {
                        "text/plain": "(1, 2, ('Love', 'honey'), (3, 4), ('pop', (5, 6)))"
                    },
                    "execution_count": 23,
                    "metadata": {},
                    "output_type": "execute_result"
                }
            ],
            "source": "NestedT = (1,2,(\"Love\", \"honey\"), (3,4), (\"pop\", (5,6)))\nNestedT"
        },
        {
            "cell_type": "code",
            "execution_count": 24,
            "metadata": {},
            "outputs": [
                {
                    "name": "stdout",
                    "output_type": "stream",
                    "text": "Element 0 1\nElement 1 2\nElement 2 ('Love', 'honey')\nElement 3 (3, 4)\nElement 4 ('pop', (5, 6))\n"
                }
            ],
            "source": "# Print element on each index\n\nprint(\"Element 0\", NestedT[0])\nprint(\"Element 1\", NestedT[1])\nprint(\"Element 2\", NestedT[2])\nprint(\"Element 3\", NestedT[3])\nprint(\"Element 4\", NestedT[4])"
        },
        {
            "cell_type": "code",
            "execution_count": 25,
            "metadata": {},
            "outputs": [
                {
                    "name": "stdout",
                    "output_type": "stream",
                    "text": "Element 2, 0 of Tuple:  Love\nElement 2, 1 of Tuple:  honey\nElement 3, 0 of Tuple:  3\nElement 3, 1 of Tuple:  4\nElement 4, 0 of Tuple:  pop\nElement 4, 1 of Tuple:  (5, 6)\n"
                }
            ],
            "source": "# We can use the second index to access other tuples \n\nprint(\"Element 2, 0 of Tuple: \",   NestedT[2][0])\nprint(\"Element 2, 1 of Tuple: \",   NestedT[2][1])\nprint(\"Element 3, 0 of Tuple: \",   NestedT[3][0])\nprint(\"Element 3, 1 of Tuple: \",   NestedT[3][1])\nprint(\"Element 4, 0 of Tuple: \",   NestedT[4][0])\nprint(\"Element 4, 1 of Tuple: \",   NestedT[4][1])"
        },
        {
            "cell_type": "code",
            "execution_count": 26,
            "metadata": {},
            "outputs": [
                {
                    "data": {
                        "text/plain": "'h'"
                    },
                    "execution_count": 26,
                    "metadata": {},
                    "output_type": "execute_result"
                }
            ],
            "source": "# We can access strings in the second nested tuples using a third index\n\nNestedT[2][1][0]"
        }
    ],
    "metadata": {
        "kernelspec": {
            "display_name": "Python 3.9",
            "language": "python",
            "name": "python3"
        },
        "language_info": {
            "codemirror_mode": {
                "name": "ipython",
                "version": 3
            },
            "file_extension": ".py",
            "mimetype": "text/x-python",
            "name": "python",
            "nbconvert_exporter": "python",
            "pygments_lexer": "ipython3",
            "version": "3.9.7"
        }
    },
    "nbformat": 4,
    "nbformat_minor": 1
}